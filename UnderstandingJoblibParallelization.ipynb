{
 "cells": [
  {
   "cell_type": "markdown",
   "id": "05764dd7-4239-4146-a0f8-8a0949486e23",
   "metadata": {},
   "source": [
    "###  Embarassingly parallel jobs with Job lib\n",
    "\n",
    "Even though task of parallelism is often a complicated one, considering the fact that the code has to be analyzed for which part of it can be executed parallely and which cannot be parallelized and also the availaible resources have to be taken into consideration.\n",
    "\n",
    "There is also the problem of \"diminishing returns\" as exhibited by Amaldahl's law where allocating more resources might lead to lesser performance.\n",
    "\n",
    "Parallel jobs have to take care of synchronizations as well. \n",
    "\n",
    "Below we explore the job lib library to perform some very simple performance improvization using parallization.\n",
    "\n",
    "Joblib performs \"embaressingly parralel jobs\" whuch implies one parallel task has absolutely no dependency amongst each other."
   ]
  },
  {
   "cell_type": "code",
   "execution_count": 1,
   "id": "78a8656e-d0a1-4af4-9c22-21960deba164",
   "metadata": {
    "tags": []
   },
   "outputs": [],
   "source": [
    "import os"
   ]
  },
  {
   "cell_type": "code",
   "execution_count": 2,
   "id": "84d2593d-c2c7-4c1d-961b-6b86f9c7fb15",
   "metadata": {},
   "outputs": [
    {
     "data": {
      "text/plain": [
       "8"
      ]
     },
     "execution_count": 2,
     "metadata": {},
     "output_type": "execute_result"
    }
   ],
   "source": [
    "os.cpu_count()"
   ]
  },
  {
   "cell_type": "markdown",
   "id": "c935417e-c7ea-45f3-bcc3-f4df6e2edd36",
   "metadata": {},
   "source": [
    "#### Observation\n",
    "\n",
    "The system has 4 cores , due to hyperthreading each processor can allocate its resources to 2 different threads\n",
    "\n",
    "hyperthreading : Intel's proprietary simultaneous multithreading implementation.Hyper threading would allow a single processor core to be considered as multiple virtual cores i.e it uses the concept of context switching, would allow a job to use up the processor's resouces when another job is on stall say due to IO operations.\n",
    "\n"
   ]
  },
  {
   "cell_type": "code",
   "execution_count": 3,
   "id": "d94443cc-7438-4885-8558-9eb2093c0692",
   "metadata": {
    "tags": []
   },
   "outputs": [],
   "source": [
    "from joblib import Parallel,delayed"
   ]
  },
  {
   "cell_type": "code",
   "execution_count": 4,
   "id": "c511b6ef-3fef-4cdd-8796-6668c497d5e6",
   "metadata": {
    "tags": []
   },
   "outputs": [],
   "source": [
    "import time,math"
   ]
  },
  {
   "cell_type": "code",
   "execution_count": 5,
   "id": "8be5a451-092e-407c-9619-692985a5165b",
   "metadata": {
    "tags": []
   },
   "outputs": [],
   "source": [
    "import matplotlib.pyplot as plt"
   ]
  },
  {
   "cell_type": "code",
   "execution_count": 7,
   "id": "6d8322f9-ba71-4d39-b918-791a2c9a9f7f",
   "metadata": {},
   "outputs": [],
   "source": [
    "import numpy as np"
   ]
  },
  {
   "cell_type": "code",
   "execution_count": 8,
   "id": "2b098900-21fb-4637-8a7f-9ac00eafe192",
   "metadata": {},
   "outputs": [],
   "source": [
    "def func_to_check_with1(size_of_array):\n",
    "    'Convolve 2 random arrays of given size'\n",
    "    array1 = np.random.random_sample(size_of_array)\n",
    "    array2 = np.random.random_sample(size_of_array)\n",
    "    return np.convolve(array1 , array2)\n"
   ]
  },
  {
   "cell_type": "code",
   "execution_count": 9,
   "id": "4be62a4b-bfbc-48ce-81c1-c7c7300d0186",
   "metadata": {},
   "outputs": [],
   "source": [
    "def run_func_serial(func,param, iterations):\n",
    "    start = time.time()\n",
    "    \n",
    "    for iteration in range(iterations):\n",
    "        func(param+iteration)\n",
    "    \n",
    "    end = time.time()\n",
    "    \n",
    "    return (end-start)"
   ]
  },
  {
   "cell_type": "code",
   "execution_count": 10,
   "id": "e3d1f5a3-a6c0-4a4e-bf14-7573c8891d7d",
   "metadata": {},
   "outputs": [],
   "source": [
    "def run_func_parallel(func,param,iterations,backend,n_jobs,verbose,with_delayed=True):\n",
    "    start = time.time()\n",
    "    \n",
    "    if with_delayed == True:\n",
    "        \n",
    "        Parallel(n_jobs = n_jobs,verbose = verbose,backend=backend)(\n",
    "            delayed(func)(param+iteration) for iteration in range(iterations)\n",
    "        )\n",
    "        \n",
    "    else :\n",
    "        Parallel(n_jobs = n_jobs,verbose = verbose,backend=backend)(\n",
    "            func(param+iteration) for iteration in range(iterations)\n",
    "        )\n",
    "        \n",
    "\n",
    "    end = time.time()\n",
    "    \n",
    "    return (end-start)\n",
    "\n",
    "    \n",
    "    "
   ]
  },
  {
   "cell_type": "markdown",
   "id": "d5f2fc0b-dfaa-4fee-9f7d-52dcd0887178",
   "metadata": {},
   "source": [
    "#### Observing Multi threading overhead"
   ]
  },
  {
   "cell_type": "code",
   "execution_count": 11,
   "id": "68b748ba-f257-4b08-a1f2-170d06dc810e",
   "metadata": {
    "tags": []
   },
   "outputs": [
    {
     "name": "stdout",
     "output_type": "stream",
     "text": [
      "[Parallel(n_jobs=2)]: Using backend LokyBackend with 2 concurrent workers.\n",
      "[Parallel(n_jobs=2)]: Done   1 tasks      | elapsed:    0.6s\n",
      "[Parallel(n_jobs=2)]: Done   2 tasks      | elapsed:    0.6s\n",
      "[Parallel(n_jobs=2)]: Done   3 out of   5 | elapsed:    0.6s remaining:    0.4s\n",
      "[Parallel(n_jobs=2)]: Done   5 out of   5 | elapsed:    0.6s remaining:    0.0s\n",
      "[Parallel(n_jobs=2)]: Done   5 out of   5 | elapsed:    0.6s finished\n"
     ]
    },
    {
     "data": {
      "text/plain": [
       "0.6881716251373291"
      ]
     },
     "execution_count": 11,
     "metadata": {},
     "output_type": "execute_result"
    }
   ],
   "source": [
    "run_func_parallel(func_to_check_with1,param=10,iterations=5,backend='loky',n_jobs=2,verbose=50)"
   ]
  },
  {
   "cell_type": "code",
   "execution_count": 12,
   "id": "a9f3d10a-7ea3-4a6e-9d6f-3fc2dead8a26",
   "metadata": {},
   "outputs": [
    {
     "data": {
      "text/plain": [
       "0.0009963512420654297"
      ]
     },
     "execution_count": 12,
     "metadata": {},
     "output_type": "execute_result"
    }
   ],
   "source": [
    "run_func_serial(func_to_check_with1,param = 10,iterations=5)"
   ]
  },
  {
   "cell_type": "markdown",
   "id": "76ce46f0-9d98-4162-ae9c-1daf9984fc5e",
   "metadata": {
    "tags": []
   },
   "source": [
    "Clearly the multithreading overhead is higher"
   ]
  },
  {
   "cell_type": "code",
   "execution_count": 13,
   "id": "7ba78982-96b4-4739-8e86-e2fe30296aa2",
   "metadata": {},
   "outputs": [
    {
     "name": "stdout",
     "output_type": "stream",
     "text": [
      "[Parallel(n_jobs=4)]: Using backend LokyBackend with 4 concurrent workers.\n",
      "[Parallel(n_jobs=4)]: Done   1 tasks      | elapsed:    1.6s\n",
      "[Parallel(n_jobs=4)]: Done   2 tasks      | elapsed:    1.6s\n",
      "[Parallel(n_jobs=4)]: Done   3 tasks      | elapsed:    1.6s\n",
      "[Parallel(n_jobs=4)]: Done   4 out of  10 | elapsed:    1.6s remaining:    2.5s\n",
      "[Parallel(n_jobs=4)]: Done   5 out of  10 | elapsed:    2.6s remaining:    2.6s\n",
      "[Parallel(n_jobs=4)]: Done   6 out of  10 | elapsed:    2.6s remaining:    1.7s\n",
      "[Parallel(n_jobs=4)]: Done   7 out of  10 | elapsed:    2.6s remaining:    1.1s\n",
      "[Parallel(n_jobs=4)]: Done   8 out of  10 | elapsed:    2.6s remaining:    0.6s\n",
      "[Parallel(n_jobs=4)]: Done  10 out of  10 | elapsed:    3.3s remaining:    0.0s\n",
      "[Parallel(n_jobs=4)]: Done  10 out of  10 | elapsed:    3.3s finished\n"
     ]
    },
    {
     "data": {
      "text/plain": [
       "3.49834942817688"
      ]
     },
     "execution_count": 13,
     "metadata": {},
     "output_type": "execute_result"
    }
   ],
   "source": [
    "run_func_parallel(func_to_check_with1,param=40000,iterations=10,backend='loky',n_jobs=4,verbose=50)"
   ]
  },
  {
   "cell_type": "code",
   "execution_count": 14,
   "id": "d4ec9876-37f7-4eaf-95bc-e0cb1465db5c",
   "metadata": {},
   "outputs": [
    {
     "data": {
      "text/plain": [
       "9.876240253448486"
      ]
     },
     "execution_count": 14,
     "metadata": {},
     "output_type": "execute_result"
    }
   ],
   "source": [
    "run_func_serial(func_to_check_with1,param=40000,iterations=5)"
   ]
  },
  {
   "cell_type": "markdown",
   "id": "21f6545d-c02c-4759-b49b-729f803e77fd",
   "metadata": {
    "tags": []
   },
   "source": [
    "There you go!!"
   ]
  },
  {
   "cell_type": "markdown",
   "id": "be34896d-e71a-4893-86e9-0edc5b2ddb13",
   "metadata": {
    "tags": []
   },
   "source": [
    "#### Comparing the time taken by creating different numbers of processes for default backend"
   ]
  },
  {
   "cell_type": "code",
   "execution_count": 15,
   "id": "067f8083-bd89-4fc8-9b26-2eea06deaf48",
   "metadata": {
    "collapsed": true,
    "jupyter": {
     "outputs_hidden": true
    },
    "tags": []
   },
   "outputs": [
    {
     "name": "stderr",
     "output_type": "stream",
     "text": [
      "[Parallel(n_jobs=1)]: Using backend SequentialBackend with 1 concurrent workers.\n",
      "[Parallel(n_jobs=1)]: Done  10 out of  10 | elapsed:   19.5s finished\n",
      "[Parallel(n_jobs=2)]: Using backend LokyBackend with 2 concurrent workers.\n",
      "[Parallel(n_jobs=2)]: Done  10 out of  10 | elapsed:    6.1s finished\n",
      "[Parallel(n_jobs=3)]: Using backend LokyBackend with 3 concurrent workers.\n",
      "[Parallel(n_jobs=3)]: Done  10 out of  10 | elapsed:    3.7s finished\n",
      "[Parallel(n_jobs=4)]: Using backend LokyBackend with 4 concurrent workers.\n",
      "[Parallel(n_jobs=4)]: Done  10 out of  10 | elapsed:    2.6s finished\n",
      "[Parallel(n_jobs=5)]: Using backend LokyBackend with 5 concurrent workers.\n",
      "[Parallel(n_jobs=5)]: Done  10 out of  10 | elapsed:    1.8s finished\n",
      "[Parallel(n_jobs=6)]: Using backend LokyBackend with 6 concurrent workers.\n",
      "[Parallel(n_jobs=6)]: Done  10 out of  10 | elapsed:    1.2s remaining:    0.0s\n",
      "[Parallel(n_jobs=6)]: Done  10 out of  10 | elapsed:    1.2s finished\n",
      "[Parallel(n_jobs=7)]: Using backend LokyBackend with 7 concurrent workers.\n",
      "[Parallel(n_jobs=7)]: Done   8 out of  10 | elapsed:    1.2s remaining:    0.2s\n",
      "[Parallel(n_jobs=7)]: Done  10 out of  10 | elapsed:    1.2s finished\n",
      "[Parallel(n_jobs=8)]: Using backend LokyBackend with 8 concurrent workers.\n",
      "[Parallel(n_jobs=8)]: Done   6 out of  10 | elapsed:    0.8s remaining:    0.5s\n",
      "[Parallel(n_jobs=8)]: Done  10 out of  10 | elapsed:    1.3s finished\n",
      "[Parallel(n_jobs=9)]: Using backend LokyBackend with 9 concurrent workers.\n",
      "[Parallel(n_jobs=9)]: Done   4 out of  10 | elapsed:    0.9s remaining:    1.5s\n",
      "[Parallel(n_jobs=9)]: Done  10 out of  10 | elapsed:    1.3s finished\n",
      "[Parallel(n_jobs=10)]: Using backend LokyBackend with 10 concurrent workers.\n",
      "[Parallel(n_jobs=10)]: Done   2 out of  10 | elapsed:    0.9s remaining:    3.9s\n",
      "[Parallel(n_jobs=10)]: Done  10 out of  10 | elapsed:    1.4s finished\n",
      "[Parallel(n_jobs=11)]: Using backend LokyBackend with 11 concurrent workers.\n",
      "[Parallel(n_jobs=11)]: Done  10 out of  10 | elapsed:    1.4s finished\n",
      "[Parallel(n_jobs=12)]: Using backend LokyBackend with 12 concurrent workers.\n",
      "[Parallel(n_jobs=12)]: Done  10 out of  10 | elapsed:    1.3s finished\n",
      "[Parallel(n_jobs=13)]: Using backend LokyBackend with 13 concurrent workers.\n",
      "[Parallel(n_jobs=13)]: Done   7 out of  10 | elapsed:    1.3s remaining:    0.5s\n",
      "[Parallel(n_jobs=13)]: Done  10 out of  10 | elapsed:    1.4s finished\n",
      "[Parallel(n_jobs=14)]: Using backend LokyBackend with 14 concurrent workers.\n",
      "[Parallel(n_jobs=14)]: Done   5 out of  10 | elapsed:    1.3s remaining:    1.3s\n",
      "[Parallel(n_jobs=14)]: Done  10 out of  10 | elapsed:    1.4s finished\n",
      "[Parallel(n_jobs=15)]: Using backend LokyBackend with 15 concurrent workers.\n",
      "[Parallel(n_jobs=15)]: Done   3 out of  10 | elapsed:    1.1s remaining:    2.7s\n",
      "[Parallel(n_jobs=15)]: Done  10 out of  10 | elapsed:    1.4s finished\n",
      "[Parallel(n_jobs=16)]: Using backend LokyBackend with 16 concurrent workers.\n",
      "[Parallel(n_jobs=16)]: Done  10 out of  10 | elapsed:    1.5s finished\n",
      "[Parallel(n_jobs=17)]: Using backend LokyBackend with 17 concurrent workers.\n",
      "[Parallel(n_jobs=17)]: Done  10 out of  10 | elapsed:    1.5s remaining:    0.0s\n",
      "[Parallel(n_jobs=17)]: Done  10 out of  10 | elapsed:    1.5s finished\n",
      "[Parallel(n_jobs=18)]: Using backend LokyBackend with 18 concurrent workers.\n",
      "[Parallel(n_jobs=18)]: Done   8 out of  10 | elapsed:    1.5s remaining:    0.3s\n",
      "[Parallel(n_jobs=18)]: Done  10 out of  10 | elapsed:    1.6s finished\n",
      "[Parallel(n_jobs=19)]: Using backend LokyBackend with 19 concurrent workers.\n",
      "[Parallel(n_jobs=19)]: Done   6 out of  10 | elapsed:    1.5s remaining:    0.9s\n",
      "[Parallel(n_jobs=19)]: Done  10 out of  10 | elapsed:    1.6s finished\n",
      "[Parallel(n_jobs=20)]: Using backend LokyBackend with 20 concurrent workers.\n",
      "[Parallel(n_jobs=20)]: Done   4 out of  10 | elapsed:    1.2s remaining:    1.9s\n",
      "[Parallel(n_jobs=20)]: Done  10 out of  10 | elapsed:    1.6s finished\n",
      "[Parallel(n_jobs=21)]: Using backend LokyBackend with 21 concurrent workers.\n",
      "[Parallel(n_jobs=21)]: Done   2 out of  10 | elapsed:    1.1s remaining:    4.5s\n",
      "[Parallel(n_jobs=21)]: Done  10 out of  10 | elapsed:    1.5s finished\n",
      "[Parallel(n_jobs=22)]: Using backend LokyBackend with 22 concurrent workers.\n",
      "[Parallel(n_jobs=22)]: Done  10 out of  10 | elapsed:    1.5s finished\n",
      "[Parallel(n_jobs=23)]: Using backend LokyBackend with 23 concurrent workers.\n",
      "[Parallel(n_jobs=23)]: Done  10 out of  10 | elapsed:    1.5s finished\n",
      "[Parallel(n_jobs=24)]: Using backend LokyBackend with 24 concurrent workers.\n",
      "[Parallel(n_jobs=24)]: Done   7 out of  10 | elapsed:    1.5s remaining:    0.6s\n",
      "[Parallel(n_jobs=24)]: Done  10 out of  10 | elapsed:    1.6s finished\n",
      "[Parallel(n_jobs=25)]: Using backend LokyBackend with 25 concurrent workers.\n",
      "[Parallel(n_jobs=25)]: Done   5 out of  10 | elapsed:    1.4s remaining:    1.4s\n",
      "[Parallel(n_jobs=25)]: Done  10 out of  10 | elapsed:    1.5s finished\n",
      "[Parallel(n_jobs=26)]: Using backend LokyBackend with 26 concurrent workers.\n",
      "[Parallel(n_jobs=26)]: Done   3 out of  10 | elapsed:    1.1s remaining:    2.7s\n",
      "[Parallel(n_jobs=26)]: Done  10 out of  10 | elapsed:    1.5s finished\n",
      "[Parallel(n_jobs=27)]: Using backend LokyBackend with 27 concurrent workers.\n",
      "[Parallel(n_jobs=27)]: Done  10 out of  10 | elapsed:    1.5s finished\n",
      "[Parallel(n_jobs=28)]: Using backend LokyBackend with 28 concurrent workers.\n",
      "[Parallel(n_jobs=28)]: Done  10 out of  10 | elapsed:    1.4s remaining:    0.0s\n",
      "[Parallel(n_jobs=28)]: Done  10 out of  10 | elapsed:    1.4s finished\n",
      "[Parallel(n_jobs=29)]: Using backend LokyBackend with 29 concurrent workers.\n",
      "[Parallel(n_jobs=29)]: Done   8 out of  10 | elapsed:    1.4s remaining:    0.3s\n",
      "[Parallel(n_jobs=29)]: Done  10 out of  10 | elapsed:    1.5s finished\n",
      "[Parallel(n_jobs=30)]: Using backend LokyBackend with 30 concurrent workers.\n",
      "[Parallel(n_jobs=30)]: Done   6 out of  10 | elapsed:    1.4s remaining:    0.9s\n",
      "[Parallel(n_jobs=30)]: Done  10 out of  10 | elapsed:    1.5s finished\n",
      "[Parallel(n_jobs=31)]: Using backend LokyBackend with 31 concurrent workers.\n",
      "[Parallel(n_jobs=31)]: Done   4 out of  10 | elapsed:    1.1s remaining:    1.8s\n",
      "[Parallel(n_jobs=31)]: Done  10 out of  10 | elapsed:    1.5s finished\n",
      "[Parallel(n_jobs=32)]: Using backend LokyBackend with 32 concurrent workers.\n",
      "[Parallel(n_jobs=32)]: Done   2 out of  10 | elapsed:    1.0s remaining:    4.4s\n",
      "[Parallel(n_jobs=32)]: Done  10 out of  10 | elapsed:    1.5s finished\n",
      "[Parallel(n_jobs=33)]: Using backend LokyBackend with 33 concurrent workers.\n",
      "[Parallel(n_jobs=33)]: Done  10 out of  10 | elapsed:    1.5s finished\n",
      "[Parallel(n_jobs=34)]: Using backend LokyBackend with 34 concurrent workers.\n",
      "[Parallel(n_jobs=34)]: Done  10 out of  10 | elapsed:    1.4s finished\n",
      "[Parallel(n_jobs=35)]: Using backend LokyBackend with 35 concurrent workers.\n",
      "[Parallel(n_jobs=35)]: Done   7 out of  10 | elapsed:    1.4s remaining:    0.5s\n",
      "[Parallel(n_jobs=35)]: Done  10 out of  10 | elapsed:    1.4s finished\n",
      "[Parallel(n_jobs=36)]: Using backend LokyBackend with 36 concurrent workers.\n",
      "[Parallel(n_jobs=36)]: Done   5 out of  10 | elapsed:    1.4s remaining:    1.4s\n",
      "[Parallel(n_jobs=36)]: Done  10 out of  10 | elapsed:    1.5s finished\n",
      "[Parallel(n_jobs=37)]: Using backend LokyBackend with 37 concurrent workers.\n",
      "[Parallel(n_jobs=37)]: Done   3 out of  10 | elapsed:    1.0s remaining:    2.6s\n",
      "[Parallel(n_jobs=37)]: Done  10 out of  10 | elapsed:    1.4s finished\n",
      "[Parallel(n_jobs=38)]: Using backend LokyBackend with 38 concurrent workers.\n",
      "[Parallel(n_jobs=38)]: Done  10 out of  10 | elapsed:    1.5s finished\n",
      "[Parallel(n_jobs=39)]: Using backend LokyBackend with 39 concurrent workers.\n",
      "[Parallel(n_jobs=39)]: Done  10 out of  10 | elapsed:    1.5s remaining:    0.0s\n",
      "[Parallel(n_jobs=39)]: Done  10 out of  10 | elapsed:    1.5s finished\n",
      "[Parallel(n_jobs=40)]: Using backend LokyBackend with 40 concurrent workers.\n",
      "[Parallel(n_jobs=40)]: Done   8 out of  10 | elapsed:    1.6s remaining:    0.3s\n",
      "[Parallel(n_jobs=40)]: Done  10 out of  10 | elapsed:    1.6s finished\n",
      "[Parallel(n_jobs=41)]: Using backend LokyBackend with 41 concurrent workers.\n",
      "[Parallel(n_jobs=41)]: Done   6 out of  10 | elapsed:    1.4s remaining:    0.9s\n",
      "[Parallel(n_jobs=41)]: Done  10 out of  10 | elapsed:    1.5s finished\n",
      "[Parallel(n_jobs=42)]: Using backend LokyBackend with 42 concurrent workers.\n",
      "[Parallel(n_jobs=42)]: Done   4 out of  10 | elapsed:    1.1s remaining:    1.7s\n",
      "[Parallel(n_jobs=42)]: Done  10 out of  10 | elapsed:    1.4s finished\n",
      "[Parallel(n_jobs=43)]: Using backend LokyBackend with 43 concurrent workers.\n",
      "[Parallel(n_jobs=43)]: Done   2 out of  10 | elapsed:    1.0s remaining:    4.3s\n",
      "[Parallel(n_jobs=43)]: Done  10 out of  10 | elapsed:    1.5s finished\n",
      "[Parallel(n_jobs=44)]: Using backend LokyBackend with 44 concurrent workers.\n",
      "[Parallel(n_jobs=44)]: Done  10 out of  10 | elapsed:    1.4s finished\n",
      "[Parallel(n_jobs=45)]: Using backend LokyBackend with 45 concurrent workers.\n",
      "[Parallel(n_jobs=45)]: Done  10 out of  10 | elapsed:    1.4s finished\n",
      "[Parallel(n_jobs=46)]: Using backend LokyBackend with 46 concurrent workers.\n",
      "[Parallel(n_jobs=46)]: Done   7 out of  10 | elapsed:    1.4s remaining:    0.5s\n",
      "[Parallel(n_jobs=46)]: Done  10 out of  10 | elapsed:    1.4s finished\n",
      "[Parallel(n_jobs=47)]: Using backend LokyBackend with 47 concurrent workers.\n",
      "[Parallel(n_jobs=47)]: Done   5 out of  10 | elapsed:    1.3s remaining:    1.3s\n",
      "[Parallel(n_jobs=47)]: Done  10 out of  10 | elapsed:    1.5s finished\n",
      "[Parallel(n_jobs=48)]: Using backend LokyBackend with 48 concurrent workers.\n",
      "[Parallel(n_jobs=48)]: Done   3 out of  10 | elapsed:    1.1s remaining:    2.7s\n",
      "[Parallel(n_jobs=48)]: Done  10 out of  10 | elapsed:    1.4s finished\n",
      "[Parallel(n_jobs=49)]: Using backend LokyBackend with 49 concurrent workers.\n",
      "[Parallel(n_jobs=49)]: Done  10 out of  10 | elapsed:    1.5s finished\n"
     ]
    }
   ],
   "source": [
    "list_of_time = []\n",
    "\n",
    "for n_process in range(1,50):\n",
    "    list_of_time.append(run_func_parallel(func_to_check_with1,param=40000,iterations=10,backend='loky',n_jobs=n_process,verbose=1))\n",
    "    \n",
    "    \n",
    "    "
   ]
  },
  {
   "cell_type": "code",
   "execution_count": 33,
   "id": "0e8878e6-a9e0-45cd-9499-412fecd0d637",
   "metadata": {},
   "outputs": [],
   "source": [
    "serial_time = run_func_serial(func_to_check_with1,param=40000,iterations=10)"
   ]
  },
  {
   "cell_type": "code",
   "execution_count": 36,
   "id": "3d48de4f-3d6b-4cf2-8818-81fe5ab46ec5",
   "metadata": {},
   "outputs": [],
   "source": [
    "list_of_serial_time = [serial_time]*49"
   ]
  },
  {
   "cell_type": "code",
   "execution_count": 39,
   "id": "713291e5-0824-46c3-9422-6983037fa3e3",
   "metadata": {
    "tags": []
   },
   "outputs": [
    {
     "data": {
      "image/png": "[encoded data removed]",
      "text/plain": [
       "<Figure size 576x576 with 1 Axes>"
      ]
     },
     "metadata": {
      "needs_background": "light"
     },
     "output_type": "display_data"
    }
   ],
   "source": [
    "plt.figure(figsize=(8,8))\n",
    "plt.title('Time Taken vs number of processes')\n",
    "plt.xlabel('Number of processes')\n",
    "plt.ylabel('Time Taken')\n",
    "\n",
    "plt.plot(range(1,50),list_of_time,color ='b')\n",
    "plt.plot(range(1,50),list_of_serial_time,color = 'g')\n",
    "plt.legend(['Parallel','Serial'])\n",
    "plt.show()"
   ]
  },
  {
   "cell_type": "markdown",
   "id": "8e830ff3-c801-4350-b6f4-6fc6ae8a351e",
   "metadata": {
    "tags": []
   },
   "source": [
    "#### Observation\n",
    "\n",
    "True to Amaldahl's law (law of diminishing returns) there is no further improvement (reduction in time taken) after n_jobs=8 (nos of cores availaible to us) , infact there is aslight increase in the time taken as the lowest time taken is acheived at n_jobs = 8"
   ]
  },
  {
   "cell_type": "markdown",
   "id": "413368cc-ccf8-4f8f-b632-5f45e1fb9fec",
   "metadata": {
    "tags": []
   },
   "source": [
    "#### Use of delayed"
   ]
  },
  {
   "cell_type": "markdown",
   "id": "65f19fa5-6712-40a9-a620-c1419ff567c9",
   "metadata": {},
   "source": [
    "Delayed is a decorator which is essential forjjoblib parrallel to run. Without delayed decorator before the task can be divided amongst parallel threads the task gets executed and thus essentialy there is no more parallelism to happen\n",
    "\n",
    "Running with delayed throws expection from joblib parallelism with \"too many values to unpack\" , which as per my understanding is due to the fact that the entire list of tasks is executed and returned to Parallel rather than one task at a time (do feel free to correct me if my understanding is wrong)"
   ]
  },
  {
   "cell_type": "markdown",
   "id": "0b86bf94-a49a-491a-b36c-afa056f0afb7",
   "metadata": {
    "tags": []
   },
   "source": [
    "#### Multiprocessing vs Multithreading"
   ]
  },
  {
   "cell_type": "markdown",
   "id": "e0c4c669-6345-443b-92df-07deaa5b1dd0",
   "metadata": {
    "tags": []
   },
   "source": [
    "*Since the multiprocessing falis in jupyter, the plot for the below are attached as seperated file \"Plot for Multiprocessing vs multithreading\" in the repo*"
   ]
  },
  {
   "cell_type": "code",
   "execution_count": null,
   "id": "174659f9-9b27-4cd9-8e8b-af8ecf4c1626",
   "metadata": {},
   "outputs": [
    {
     "name": "stderr",
     "output_type": "stream",
     "text": [
      "[Parallel(n_jobs=2)]: Using backend MultiprocessingBackend with 2 concurrent workers.\n"
     ]
    }
   ],
   "source": [
    "run_func_parallel(func_to_check_with1,param=400,iterations=5,backend='multiprocessing',n_jobs=2,verbose=1)"
   ]
  },
  {
   "cell_type": "code",
   "execution_count": null,
   "id": "5901f5ff-0924-4609-84a6-e5e087d56a51",
   "metadata": {
    "collapsed": true,
    "jupyter": {
     "outputs_hidden": true
    },
    "tags": []
   },
   "outputs": [
    {
     "name": "stderr",
     "output_type": "stream",
     "text": [
      "[Parallel(n_jobs=1)]: Using backend SequentialBackend with 1 concurrent workers.\n",
      "[Parallel(n_jobs=1)]: Done   5 out of   5 | elapsed:    9.7s finished\n",
      "[Parallel(n_jobs=2)]: Using backend MultiprocessingBackend with 2 concurrent workers.\n"
     ]
    }
   ],
   "source": [
    "##multiprocessing\n",
    "\n",
    "list_of_time_multiprocess = []\n",
    "\n",
    "for n_process in range(1,9):\n",
    "    list_of_time_multiprocess.append(run_func_parallel(func_to_check_with1,param=40000,iterations=5,backend='multiprocessing',n_jobs=n_process,verbose=1))"
   ]
  },
  {
   "cell_type": "code",
   "execution_count": 13,
   "id": "2d5d7fa2-4d20-45bc-ac3d-5743b46225e9",
   "metadata": {
    "tags": []
   },
   "outputs": [
    {
     "name": "stderr",
     "output_type": "stream",
     "text": [
      "[Parallel(n_jobs=1)]: Using backend SequentialBackend with 1 concurrent workers.\n",
      "[Parallel(n_jobs=1)]: Done   5 out of   5 | elapsed:    9.7s finished\n",
      "[Parallel(n_jobs=2)]: Using backend ThreadingBackend with 2 concurrent workers.\n",
      "[Parallel(n_jobs=2)]: Done   5 out of   5 | elapsed:    5.0s finished\n",
      "[Parallel(n_jobs=3)]: Using backend ThreadingBackend with 3 concurrent workers.\n",
      "[Parallel(n_jobs=3)]: Done   5 out of   5 | elapsed:    3.0s finished\n",
      "[Parallel(n_jobs=4)]: Using backend ThreadingBackend with 4 concurrent workers.\n",
      "[Parallel(n_jobs=4)]: Done   5 out of   5 | elapsed:    3.7s finished\n",
      "[Parallel(n_jobs=5)]: Using backend ThreadingBackend with 5 concurrent workers.\n",
      "[Parallel(n_jobs=5)]: Done   2 out of   5 | elapsed:    2.2s remaining:    3.4s\n",
      "[Parallel(n_jobs=5)]: Done   5 out of   5 | elapsed:    2.2s finished\n",
      "[Parallel(n_jobs=6)]: Using backend ThreadingBackend with 6 concurrent workers.\n",
      "[Parallel(n_jobs=6)]: Done   5 out of   5 | elapsed:    2.2s finished\n",
      "[Parallel(n_jobs=7)]: Using backend ThreadingBackend with 7 concurrent workers.\n",
      "[Parallel(n_jobs=7)]: Done   5 out of   5 | elapsed:    2.2s finished\n",
      "[Parallel(n_jobs=8)]: Using backend ThreadingBackend with 8 concurrent workers.\n",
      "[Parallel(n_jobs=8)]: Done   2 out of   5 | elapsed:    2.3s remaining:    3.5s\n",
      "[Parallel(n_jobs=8)]: Done   5 out of   5 | elapsed:    2.3s finished\n"
     ]
    }
   ],
   "source": [
    "##multithreading\n",
    "\n",
    "list_of_time_multithreading = []\n",
    "\n",
    "for n_process in range(1,9):\n",
    "    list_of_time_multithreading.append(run_func_parallel(func_to_check_with1,param=40000,iterations=5,backend='threading',n_jobs=n_process,verbose=1))"
   ]
  },
  {
   "cell_type": "code",
   "execution_count": 2,
   "id": "ee2bb19b-d278-4aec-836c-daf9f1db522d",
   "metadata": {},
   "outputs": [
    {
     "data": {
      "image/png": "[encoded data removed]",
      "text/plain": [
       "<IPython.core.display.Image object>"
      ]
     },
     "execution_count": 2,
     "metadata": {},
     "output_type": "execute_result"
    }
   ],
   "source": [
    "## since we could not run multiprocessing in ipynb in windows , it was run as a script to obtain the output\n",
    "from IPython import display\n",
    "\n",
    "display.Image(\"./MultiThreading_Multiprocessing.png\")"
   ]
  },
  {
   "cell_type": "markdown",
   "id": "ae1bbe56-b197-4bad-874c-9161505fe9d4",
   "metadata": {},
   "source": [
    "#### Observation\n",
    "\n",
    "Clearly multithreading take significantly less amount of time as compared to multiprocessing .\n",
    "\n",
    "This happens because we are currently in a single processor system and multithreading allows to create multiple threads for a single process. Threads by defination are light wright processes and hence has significantly less overhead. \n",
    "\n",
    "Each process created during multiprocessing must have its own set of registers ,stack and takes time for intercommunication as well unlike threads which belongs to a single process and gets to share the resources"
   ]
  },
  {
   "cell_type": "code",
   "execution_count": null,
   "id": "b6431110-439b-46a0-bf31-76e01ed4e9f1",
   "metadata": {},
   "outputs": [],
   "source": []
  }
 ],
 "metadata": {
  "kernelspec": {
   "display_name": "Python 3 (ipykernel)",
   "language": "python",
   "name": "python3"
  },
  "language_info": {
   "codemirror_mode": {
    "name": "ipython",
    "version": 3
   },
   "file_extension": ".py",
   "mimetype": "text/x-python",
   "name": "python",
   "nbconvert_exporter": "python",
   "pygments_lexer": "ipython3",
   "version": "3.10.1"
  }
 },
 "nbformat": 4,
 "nbformat_minor": 5
}
