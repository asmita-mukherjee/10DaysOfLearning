{
 "cells": [
  {
   "cell_type": "code",
   "execution_count": 1,
   "id": "d94443cc-7438-4885-8558-9eb2093c0692",
   "metadata": {
    "tags": []
   },
   "outputs": [],
   "source": [
    "from joblib import Parallel,delayed"
   ]
  },
  {
   "cell_type": "code",
   "execution_count": 2,
   "id": "c511b6ef-3fef-4cdd-8796-6668c497d5e6",
   "metadata": {
    "tags": []
   },
   "outputs": [],
   "source": [
    "import time,math"
   ]
  },
  {
   "cell_type": "code",
   "execution_count": 3,
   "id": "8be5a451-092e-407c-9619-692985a5165b",
   "metadata": {
    "tags": []
   },
   "outputs": [],
   "source": [
    "import matplotlib as plt"
   ]
  },
  {
   "cell_type": "code",
   "execution_count": 4,
   "id": "6d8322f9-ba71-4d39-b918-791a2c9a9f7f",
   "metadata": {},
   "outputs": [],
   "source": [
    "import numpy as np"
   ]
  },
  {
   "cell_type": "code",
   "execution_count": 5,
   "id": "2b098900-21fb-4637-8a7f-9ac00eafe192",
   "metadata": {},
   "outputs": [],
   "source": [
    "def func_to_check_with1(size_of_array):\n",
    "    'Convolve 2 random arrays of given size'\n",
    "    array1 = np.random.random_sample(size_of_array)\n",
    "    array2 = np.random.random_sample(size_of_array)\n",
    "    return np.convolve(array1 , array2)\n"
   ]
  },
  {
   "cell_type": "code",
   "execution_count": 6,
   "id": "6360517d-e456-415e-8462-74a353124ba0",
   "metadata": {},
   "outputs": [],
   "source": [
    "def func_to_check_with0(param):\n",
    "    return math.sqrt(param*2)\n",
    "    "
   ]
  },
  {
   "cell_type": "code",
   "execution_count": 7,
   "id": "4be62a4b-bfbc-48ce-81c1-c7c7300d0186",
   "metadata": {},
   "outputs": [],
   "source": [
    "def run_func_serial(func,param, iterations):\n",
    "    start = time.time()\n",
    "    \n",
    "    for iteration in range(iterations):\n",
    "        func(param+iteration)\n",
    "    \n",
    "    end = time.time()\n",
    "    \n",
    "    return (end-start)"
   ]
  },
  {
   "cell_type": "code",
   "execution_count": 8,
   "id": "e3d1f5a3-a6c0-4a4e-bf14-7573c8891d7d",
   "metadata": {},
   "outputs": [],
   "source": [
    "def run_func_parallel(func,param,iterations,backend,n_jobs,verbose,with_delayed=True):\n",
    "    start = time.time()\n",
    "    \n",
    "    if with_delayed == True:\n",
    "        \n",
    "        Parallel(n_jobs = n_jobs,verbose = verbose,backend=backend)(\n",
    "            delayed(func)(param+iteration) for iteration in range(iterations)\n",
    "        )\n",
    "        \n",
    "    else :\n",
    "        parallel(n_jobs = n_jobs,verbose = verbose,backend=backend)(\n",
    "            func(param+iteration) for iteration in range(iterations)\n",
    "        )\n",
    "        \n",
    "\n",
    "    end = time.time()\n",
    "    \n",
    "    return (end-start)\n",
    "\n",
    "    \n",
    "    "
   ]
  },
  {
   "cell_type": "code",
   "execution_count": 13,
   "id": "68b748ba-f257-4b08-a1f2-170d06dc810e",
   "metadata": {
    "tags": []
   },
   "outputs": [
    {
     "name": "stdout",
     "output_type": "stream",
     "text": [
      "[Parallel(n_jobs=2)]: Using backend LokyBackend with 2 concurrent workers.\n",
      "[Parallel(n_jobs=2)]: Done   1 tasks      | elapsed:    0.0s\n",
      "[Parallel(n_jobs=2)]: Batch computation too fast (0.0039s.) Setting batch_size=2.\n",
      "[Parallel(n_jobs=2)]: Done   2 tasks      | elapsed:    0.0s\n",
      "[Parallel(n_jobs=2)]: Done   3 out of   5 | elapsed:    0.0s remaining:    0.0s\n",
      "[Parallel(n_jobs=2)]: Done   5 out of   5 | elapsed:    0.0s remaining:    0.0s\n",
      "[Parallel(n_jobs=2)]: Done   5 out of   5 | elapsed:    0.0s finished\n"
     ]
    },
    {
     "data": {
      "text/plain": [
       "0.027291297912597656"
      ]
     },
     "execution_count": 13,
     "metadata": {},
     "output_type": "execute_result"
    }
   ],
   "source": [
    "run_func_parallel(func_to_check_with0,param=10,iterations=5,backend='loky',n_jobs=2,verbose=50) # what is happening!"
   ]
  },
  {
   "cell_type": "code",
   "execution_count": 10,
   "id": "a9f3d10a-7ea3-4a6e-9d6f-3fc2dead8a26",
   "metadata": {},
   "outputs": [
    {
     "data": {
      "text/plain": [
       "0.0"
      ]
     },
     "execution_count": 10,
     "metadata": {},
     "output_type": "execute_result"
    }
   ],
   "source": [
    "run_func_serial(func_to_check_with0,param = 10,iterations=5)"
   ]
  },
  {
   "cell_type": "code",
   "execution_count": null,
   "id": "3c52ec99-496b-4ecc-829f-38f2969a28a2",
   "metadata": {},
   "outputs": [],
   "source": []
  }
 ],
 "metadata": {
  "kernelspec": {
   "display_name": "Python 3 (ipykernel)",
   "language": "python",
   "name": "python3"
  },
  "language_info": {
   "codemirror_mode": {
    "name": "ipython",
    "version": 3
   },
   "file_extension": ".py",
   "mimetype": "text/x-python",
   "name": "python",
   "nbconvert_exporter": "python",
   "pygments_lexer": "ipython3",
   "version": "3.10.1"
  }
 },
 "nbformat": 4,
 "nbformat_minor": 5
}
